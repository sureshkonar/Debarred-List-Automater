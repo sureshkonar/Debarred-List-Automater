{
  "nbformat": 4,
  "nbformat_minor": 0,
  "metadata": {
    "colab": {
      "provenance": []
    },
    "kernelspec": {
      "name": "py38",
      "display_name": "Python 3.8"
    }
  },
  "cells": [
    {
      "cell_type": "code",
      "metadata": {
        "id": "hZdyn7fqDqal"
      },
      "source": [
        "!wget -O mini.sh https://repo.anaconda.com/miniconda/Miniconda3-py38_4.8.2-Linux-x86_64.sh\n",
        "!chmod +x mini.sh\n",
        "!bash ./mini.sh -b -f -p /usr/local\n",
        "!conda install -q -y jupyter\n",
        "!conda install -q -y google-colab -c conda-forge\n",
        "!python -m ipykernel install --name \"py38\" --user"
      ],
      "execution_count": null,
      "outputs": []
    },
    {
      "cell_type": "code",
      "metadata": {
        "id": "H80WJWdPFLFL",
        "colab": {
          "base_uri": "https://localhost:8080/"
        },
        "outputId": "48e6d0bd-5906-4c11-81bb-185124710277"
      },
      "source": [
        "# Reload the web page and execute this cell\n",
        "import sys\n",
        "print(\"User Current Version:-\", sys.version)"
      ],
      "execution_count": null,
      "outputs": [
        {
          "output_type": "stream",
          "name": "stdout",
          "text": [
            "User Current Version:- 3.8.1 (default, Jan  8 2020, 22:29:32) \n",
            "[GCC 7.3.0]\n"
          ]
        }
      ]
    },
    {
      "cell_type": "code",
      "source": [
        "pip install --upgrade pandas"
      ],
      "metadata": {
        "colab": {
          "base_uri": "https://localhost:8080/"
        },
        "id": "d7QxhxoiIg49",
        "outputId": "51ef67c0-17f6-4a6d-fd5b-c0f4ded26c19"
      },
      "execution_count": null,
      "outputs": [
        {
          "output_type": "stream",
          "name": "stdout",
          "text": [
            "Looking in indexes: https://pypi.org/simple, https://us-python.pkg.dev/colab-wheels/public/simple/\n",
            "Requirement already up-to-date: pandas in /usr/local/lib/python3.8/site-packages (1.5.0)\n",
            "Requirement already satisfied, skipping upgrade: python-dateutil>=2.8.1 in /usr/local/lib/python3.8/site-packages (from pandas) (2.8.2)\n",
            "Requirement already satisfied, skipping upgrade: numpy>=1.20.3; python_version < \"3.10\" in /usr/local/lib/python3.8/site-packages (from pandas) (1.20.3)\n",
            "Requirement already satisfied, skipping upgrade: pytz>=2020.1 in /usr/local/lib/python3.8/site-packages (from pandas) (2022.1)\n",
            "Requirement already satisfied, skipping upgrade: six>=1.5 in /usr/local/lib/python3.8/site-packages (from python-dateutil>=2.8.1->pandas) (1.14.0)\n"
          ]
        }
      ]
    },
    {
      "cell_type": "code",
      "source": [
        "pip install openpyxl"
      ],
      "metadata": {
        "colab": {
          "base_uri": "https://localhost:8080/"
        },
        "id": "jkJ6w7FAIkVm",
        "outputId": "678d59f4-d8a4-4331-9083-43783009ba04"
      },
      "execution_count": null,
      "outputs": [
        {
          "output_type": "stream",
          "name": "stdout",
          "text": [
            "Looking in indexes: https://pypi.org/simple, https://us-python.pkg.dev/colab-wheels/public/simple/\n",
            "Requirement already satisfied: openpyxl in /usr/local/lib/python3.8/site-packages (3.0.10)\n",
            "Requirement already satisfied: et-xmlfile in /usr/local/lib/python3.8/site-packages (from openpyxl) (1.1.0)\n"
          ]
        }
      ]
    },
    {
      "cell_type": "code",
      "source": [
        "from tracemalloc import start\n",
        "import pandas as pd\n",
        "from math import floor \n",
        "\n",
        "filepath=input(\"Enter the File path : \")\n",
        "\n",
        "# input for creating attendance sheets\n",
        "range_input=list(map(int,input(\"Enter range list : \").split(\" \")))\n",
        "#print(filepath)\n",
        "\n",
        "data_orig = pd.read_excel(filepath)\n",
        "\n",
        "#creating attendance sheets and index for attendance percentagw\n",
        "total_ent = []\n",
        "unique_ent = []\n",
        "attendance = []                                   \n",
        "# reading excel file by its path\n",
        "\n",
        "for i in range_input:\n",
        "    sh_name = '<'+str(i)+' ATTENDANCE'\n",
        "    select=data_orig[data_orig['ATTENDANCE PERCENTAGE'].between(0,i-1)]          \n",
        "    # Sorting of elements based on the range inputs from user\n",
        "    print(select)                                                \n",
        "    # displaying selected values\n",
        "    writer_new=pd.ExcelWriter(path=filepath, if_sheet_exists = 'replace',mode='a',engine='openpyxl')  \n",
        "    select.to_excel(excel_writer=writer_new, sheet_name = sh_name)                        \n",
        "     # appending the selected values on the specific sheet of the excel file\n",
        "    writer_new.save() \n",
        "\n",
        "    total_ent.append(select.shape[0])\n",
        "    unique_ent.append(select.nunique( axis = 'rows')['REG. NO.'])\n",
        "    attendance.append(sh_name)\n",
        "    \n",
        "    writer_new.save()\n",
        "    \n",
        "try:    \n",
        "    data_index = pd.read_excel(filepath, sheet_name = 'Index')\n",
        "    row_count = data_index.shape[0] \n",
        "\n",
        "except:\n",
        "    row_count = 0\n",
        "\n",
        "writer_ovr = pd.ExcelWriter(path=filepath, if_sheet_exists = 'overlay', mode='a',engine='openpyxl')\n",
        "index_df = pd.DataFrame({'Total Number of Entries': total_ent, 'No. of Students': unique_ent, 'Attendance': attendance})\n",
        "if row_count == 0:\n",
        "    index_df.to_excel(excel_writer=writer_ovr, sheet_name = 'Index', index=False)\n",
        "else:\n",
        "    index_df.to_excel(excel_writer=writer_ovr, sheet_name = 'Index', index=False, startrow=row_count+1, header = False)\n",
        "\n",
        "writer_ovr.save()\n",
        "writer_new.close() \n",
        "writer_ovr.close()\n",
        "\n",
        "\n",
        "#creating attendance sheets and index and avg attendance\n",
        "\n",
        "\n",
        "std_regno = ''\n",
        "att_sum = 0\n",
        "count = 0\n",
        "avg_attendance = []\n",
        "\n",
        "for ind in data_orig.index:\n",
        "    regno = data_orig['REG. NO.'][ind]\n",
        "\n",
        "    if regno == std_regno:\n",
        "        att_sum += data_orig['ATTENDANCE PERCENTAGE'][ind]\n",
        "        count += 1\n",
        "    else:\n",
        "        if std_regno != '':\n",
        "            for _ in range(count):\n",
        "                avg_attendance.append((floor(att_sum/count)))\n",
        "\n",
        "        std_regno = regno\n",
        "        att_sum = data_orig['ATTENDANCE PERCENTAGE'][ind]\n",
        "        count = 1\n",
        "\n",
        "for _ in range(count):\n",
        "    avg_attendance.append((floor(att_sum/count)))\n",
        "\n",
        "data_orig['ATTENDANCE AVG'] = avg_attendance\n",
        "\n",
        "\n",
        "writer_new=pd.ExcelWriter(path=filepath, if_sheet_exists = 'replace', mode='a', engine='openpyxl')  \n",
        "data_orig.to_excel(excel_writer=writer_new, sheet_name = 'ATTENDANCE_REPORT_FSPG', index=False)                         # appending the selected values on the specific sheet of the excel file\n",
        "writer_new.save() \n",
        "\n",
        "total_ent = []\n",
        "unique_ent = []\n",
        "attendance = [] \n",
        "for i in range_input:\n",
        "    sh_name = '<'+str(i)+' ATTENDANCE AND OVERALL_AVG <'+str(i)\n",
        "    select=data_orig[data_orig['ATTENDANCE PERCENTAGE'].between(0,i-1)]\n",
        "    select=select[data_orig['ATTENDANCE AVG'].between(0,i-1)]         # Sorting of elements based on the range inputs from user\n",
        "    print(select)                                                # displaying selected values  \n",
        "    select.to_excel(excel_writer=writer_new, sheet_name = sh_name)                         # appending the selected values on the specific sheet of the excel file\n",
        "    writer_new.save() \n",
        "\n",
        "    total_ent.append(select.shape[0])\n",
        "    unique_ent.append(select.nunique( axis = 'rows')['REG. NO.'])\n",
        "    attendance.append(sh_name)\n",
        "    \n",
        "    writer_new.save()\n",
        "\n",
        "try:    \n",
        "    data_index = pd.read_excel(filepath, sheet_name = 'Index')\n",
        "    row_count = data_index.shape[0] \n",
        "\n",
        "except:\n",
        "    row_count = 0\n",
        "\n",
        "writer_ovr = pd.ExcelWriter(path=filepath, if_sheet_exists = 'overlay', mode='a',engine='openpyxl')\n",
        "index_df = pd.DataFrame({'Total Number of Entries': total_ent, 'No. of Students': unique_ent, 'Attendance': attendance})\n",
        "if row_count == 0:\n",
        "    index_df.to_excel(excel_writer=writer_ovr, sheet_name = 'Index', index=False)\n",
        "else:\n",
        "    index_df.to_excel(excel_writer=writer_ovr, sheet_name = 'Index', index=False, startrow=row_count+1, header = False)\n",
        "\n",
        "writer_ovr.save()\n",
        "writer_new.close() \n",
        "writer_ovr.close()"
      ],
      "metadata": {
        "colab": {
          "base_uri": "https://localhost:8080/"
        },
        "id": "etdQBTq_Isse",
        "outputId": "0aad8f32-7759-458b-8087-59069944de29"
      },
      "execution_count": null,
      "outputs": [
        {
          "output_type": "stream",
          "name": "stdout",
          "text": [
            "Enter the File path : Book1.xlsx\n",
            "Enter range list : 75 70 65 60\n",
            "      SCHOOL CODE PROGRAM CODE  ... TOTAL CLASSES ATTENDANCE PERCENTAGE\n",
            "5            SBBT          BOE  ...             5                    40\n",
            "7            SBBT          BOE  ...             9                    34\n",
            "8            SBBT          BOE  ...             9                    45\n",
            "100          SBBT          BOE  ...            13                    24\n",
            "142          SBBT          BOE  ...            12                    67\n",
            "...           ...          ...  ...           ...                   ...\n",
            "31640       VITBS          BBA  ...            11                    64\n",
            "31654       VITBS          BBA  ...            12                    67\n",
            "31656       VITBS          BBA  ...            17                    71\n",
            "31657       VITBS          BBA  ...            19                    69\n",
            "31658       VITBS          BBA  ...            11                    73\n",
            "\n",
            "[1719 rows x 26 columns]\n"
          ]
        },
        {
          "output_type": "stream",
          "name": "stderr",
          "text": [
            "/tmp/ipykernel_2976/798753069.py:28: FutureWarning: save is not part of the public API, usage can give in unexpected results and will be removed in a future version\n",
            "  writer_new.save()\n",
            "/tmp/ipykernel_2976/798753069.py:34: FutureWarning: save is not part of the public API, usage can give in unexpected results and will be removed in a future version\n",
            "  writer_new.save()\n"
          ]
        },
        {
          "output_type": "stream",
          "name": "stdout",
          "text": [
            "      SCHOOL CODE PROGRAM CODE  ... TOTAL CLASSES ATTENDANCE PERCENTAGE\n",
            "5            SBBT          BOE  ...             5                    40\n",
            "7            SBBT          BOE  ...             9                    34\n",
            "8            SBBT          BOE  ...             9                    45\n",
            "100          SBBT          BOE  ...            13                    24\n",
            "142          SBBT          BOE  ...            12                    67\n",
            "...           ...          ...  ...           ...                   ...\n",
            "31638       VITBS          BBA  ...            17                    30\n",
            "31639       VITBS          BBA  ...            17                    24\n",
            "31640       VITBS          BBA  ...            11                    64\n",
            "31654       VITBS          BBA  ...            12                    67\n",
            "31657       VITBS          BBA  ...            19                    69\n",
            "\n",
            "[1276 rows x 26 columns]\n"
          ]
        },
        {
          "output_type": "stream",
          "name": "stderr",
          "text": [
            "/tmp/ipykernel_2976/798753069.py:28: FutureWarning: save is not part of the public API, usage can give in unexpected results and will be removed in a future version\n",
            "  writer_new.save()\n",
            "/tmp/ipykernel_2976/798753069.py:34: FutureWarning: save is not part of the public API, usage can give in unexpected results and will be removed in a future version\n",
            "  writer_new.save()\n"
          ]
        },
        {
          "output_type": "stream",
          "name": "stdout",
          "text": [
            "      SCHOOL CODE PROGRAM CODE  ... TOTAL CLASSES ATTENDANCE PERCENTAGE\n",
            "5            SBBT          BOE  ...             5                    40\n",
            "7            SBBT          BOE  ...             9                    34\n",
            "8            SBBT          BOE  ...             9                    45\n",
            "100          SBBT          BOE  ...            13                    24\n",
            "217          SBBT          BOE  ...            13                    62\n",
            "...           ...          ...  ...           ...                   ...\n",
            "31633       VITBS          BBA  ...            17                    36\n",
            "31634       VITBS          BBA  ...            11                    64\n",
            "31638       VITBS          BBA  ...            17                    30\n",
            "31639       VITBS          BBA  ...            17                    24\n",
            "31640       VITBS          BBA  ...            11                    64\n",
            "\n",
            "[1076 rows x 26 columns]\n"
          ]
        },
        {
          "output_type": "stream",
          "name": "stderr",
          "text": [
            "/tmp/ipykernel_2976/798753069.py:28: FutureWarning: save is not part of the public API, usage can give in unexpected results and will be removed in a future version\n",
            "  writer_new.save()\n",
            "/tmp/ipykernel_2976/798753069.py:34: FutureWarning: save is not part of the public API, usage can give in unexpected results and will be removed in a future version\n",
            "  writer_new.save()\n"
          ]
        },
        {
          "output_type": "stream",
          "name": "stdout",
          "text": [
            "      SCHOOL CODE PROGRAM CODE  ... TOTAL CLASSES ATTENDANCE PERCENTAGE\n",
            "5            SBBT          BOE  ...             5                    40\n",
            "7            SBBT          BOE  ...             9                    34\n",
            "8            SBBT          BOE  ...             9                    45\n",
            "100          SBBT          BOE  ...            13                    24\n",
            "347          SBBT          BOE  ...            13                    54\n",
            "...           ...          ...  ...           ...                   ...\n",
            "31621       VITBS          BBA  ...            17                    59\n",
            "31632       VITBS          BBA  ...            17                    24\n",
            "31633       VITBS          BBA  ...            17                    36\n",
            "31638       VITBS          BBA  ...            17                    30\n",
            "31639       VITBS          BBA  ...            17                    24\n",
            "\n",
            "[855 rows x 26 columns]\n"
          ]
        },
        {
          "output_type": "stream",
          "name": "stderr",
          "text": [
            "/tmp/ipykernel_2976/798753069.py:28: FutureWarning: save is not part of the public API, usage can give in unexpected results and will be removed in a future version\n",
            "  writer_new.save()\n",
            "/tmp/ipykernel_2976/798753069.py:34: FutureWarning: save is not part of the public API, usage can give in unexpected results and will be removed in a future version\n",
            "  writer_new.save()\n",
            "/tmp/ipykernel_2976/798753069.py:50: FutureWarning: save is not part of the public API, usage can give in unexpected results and will be removed in a future version\n",
            "  writer_ovr.save()\n",
            "/tmp/ipykernel_2976/798753069.py:86: FutureWarning: save is not part of the public API, usage can give in unexpected results and will be removed in a future version\n",
            "  writer_new.save()\n",
            "/tmp/ipykernel_2976/798753069.py:94: UserWarning: Boolean Series key will be reindexed to match DataFrame index.\n",
            "  select=select[data_orig['ATTENDANCE AVG'].between(0,i-1)]         # Sorting of elements based on the range inputs from user\n",
            "/usr/local/lib/python3.8/site-packages/openpyxl/workbook/child.py:99: UserWarning: Title is more than 31 characters. Some applications may not be able to read the file\n",
            "  warnings.warn(\"Title is more than 31 characters. Some applications may not be able to read the file\")\n"
          ]
        },
        {
          "output_type": "stream",
          "name": "stdout",
          "text": [
            "      SCHOOL CODE PROGRAM CODE  ... ATTENDANCE PERCENTAGE ATTENDANCE AVG\n",
            "5            SBBT          BOE  ...                    40             40\n",
            "7            SBBT          BOE  ...                    34             39\n",
            "8            SBBT          BOE  ...                    45             39\n",
            "347          SBBT          BOE  ...                    54             51\n",
            "348          SBBT          BOE  ...                    47             51\n",
            "...           ...          ...  ...                   ...            ...\n",
            "31633       VITBS          BBA  ...                    36             65\n",
            "31634       VITBS          BBA  ...                    64             65\n",
            "31638       VITBS          BBA  ...                    30             60\n",
            "31639       VITBS          BBA  ...                    24             60\n",
            "31640       VITBS          BBA  ...                    64             60\n",
            "\n",
            "[1012 rows x 27 columns]\n"
          ]
        },
        {
          "output_type": "stream",
          "name": "stderr",
          "text": [
            "/tmp/ipykernel_2976/798753069.py:97: FutureWarning: save is not part of the public API, usage can give in unexpected results and will be removed in a future version\n",
            "  writer_new.save()\n",
            "/tmp/ipykernel_2976/798753069.py:103: FutureWarning: save is not part of the public API, usage can give in unexpected results and will be removed in a future version\n",
            "  writer_new.save()\n",
            "/tmp/ipykernel_2976/798753069.py:94: UserWarning: Boolean Series key will be reindexed to match DataFrame index.\n",
            "  select=select[data_orig['ATTENDANCE AVG'].between(0,i-1)]         # Sorting of elements based on the range inputs from user\n",
            "/usr/local/lib/python3.8/site-packages/openpyxl/workbook/child.py:99: UserWarning: Title is more than 31 characters. Some applications may not be able to read the file\n",
            "  warnings.warn(\"Title is more than 31 characters. Some applications may not be able to read the file\")\n"
          ]
        },
        {
          "output_type": "stream",
          "name": "stdout",
          "text": [
            "      SCHOOL CODE PROGRAM CODE  ... ATTENDANCE PERCENTAGE ATTENDANCE AVG\n",
            "5            SBBT          BOE  ...                    40             40\n",
            "7            SBBT          BOE  ...                    34             39\n",
            "8            SBBT          BOE  ...                    45             39\n",
            "347          SBBT          BOE  ...                    54             51\n",
            "348          SBBT          BOE  ...                    47             51\n",
            "...           ...          ...  ...                   ...            ...\n",
            "31633       VITBS          BBA  ...                    36             65\n",
            "31634       VITBS          BBA  ...                    64             65\n",
            "31638       VITBS          BBA  ...                    30             60\n",
            "31639       VITBS          BBA  ...                    24             60\n",
            "31640       VITBS          BBA  ...                    64             60\n",
            "\n",
            "[771 rows x 27 columns]\n"
          ]
        },
        {
          "output_type": "stream",
          "name": "stderr",
          "text": [
            "/tmp/ipykernel_2976/798753069.py:97: FutureWarning: save is not part of the public API, usage can give in unexpected results and will be removed in a future version\n",
            "  writer_new.save()\n",
            "/tmp/ipykernel_2976/798753069.py:103: FutureWarning: save is not part of the public API, usage can give in unexpected results and will be removed in a future version\n",
            "  writer_new.save()\n",
            "/tmp/ipykernel_2976/798753069.py:94: UserWarning: Boolean Series key will be reindexed to match DataFrame index.\n",
            "  select=select[data_orig['ATTENDANCE AVG'].between(0,i-1)]         # Sorting of elements based on the range inputs from user\n",
            "/usr/local/lib/python3.8/site-packages/openpyxl/workbook/child.py:99: UserWarning: Title is more than 31 characters. Some applications may not be able to read the file\n",
            "  warnings.warn(\"Title is more than 31 characters. Some applications may not be able to read the file\")\n"
          ]
        },
        {
          "output_type": "stream",
          "name": "stdout",
          "text": [
            "      SCHOOL CODE PROGRAM CODE  ... ATTENDANCE PERCENTAGE ATTENDANCE AVG\n",
            "5            SBBT          BOE  ...                    40             40\n",
            "7            SBBT          BOE  ...                    34             39\n",
            "8            SBBT          BOE  ...                    45             39\n",
            "347          SBBT          BOE  ...                    54             51\n",
            "348          SBBT          BOE  ...                    47             51\n",
            "...           ...          ...  ...                   ...            ...\n",
            "31495       VITBS          BBA  ...                     0             21\n",
            "31496       VITBS          BBA  ...                    10             21\n",
            "31638       VITBS          BBA  ...                    30             60\n",
            "31639       VITBS          BBA  ...                    24             60\n",
            "31640       VITBS          BBA  ...                    64             60\n",
            "\n",
            "[648 rows x 27 columns]\n"
          ]
        },
        {
          "output_type": "stream",
          "name": "stderr",
          "text": [
            "/tmp/ipykernel_2976/798753069.py:97: FutureWarning: save is not part of the public API, usage can give in unexpected results and will be removed in a future version\n",
            "  writer_new.save()\n",
            "/tmp/ipykernel_2976/798753069.py:103: FutureWarning: save is not part of the public API, usage can give in unexpected results and will be removed in a future version\n",
            "  writer_new.save()\n",
            "/tmp/ipykernel_2976/798753069.py:94: UserWarning: Boolean Series key will be reindexed to match DataFrame index.\n",
            "  select=select[data_orig['ATTENDANCE AVG'].between(0,i-1)]         # Sorting of elements based on the range inputs from user\n",
            "/usr/local/lib/python3.8/site-packages/openpyxl/workbook/child.py:99: UserWarning: Title is more than 31 characters. Some applications may not be able to read the file\n",
            "  warnings.warn(\"Title is more than 31 characters. Some applications may not be able to read the file\")\n"
          ]
        },
        {
          "output_type": "stream",
          "name": "stdout",
          "text": [
            "      SCHOOL CODE PROGRAM CODE  ... ATTENDANCE PERCENTAGE ATTENDANCE AVG\n",
            "5            SBBT          BOE  ...                    40             40\n",
            "7            SBBT          BOE  ...                    34             39\n",
            "8            SBBT          BOE  ...                    45             39\n",
            "347          SBBT          BOE  ...                    54             51\n",
            "348          SBBT          BOE  ...                    47             51\n",
            "...           ...          ...  ...                   ...            ...\n",
            "31492       VITBS          BBA  ...                    17             21\n",
            "31493       VITBS          BBA  ...                    50             21\n",
            "31494       VITBS          BBA  ...                     0             21\n",
            "31495       VITBS          BBA  ...                     0             21\n",
            "31496       VITBS          BBA  ...                    10             21\n",
            "\n",
            "[541 rows x 27 columns]\n"
          ]
        },
        {
          "output_type": "stream",
          "name": "stderr",
          "text": [
            "/tmp/ipykernel_2976/798753069.py:97: FutureWarning: save is not part of the public API, usage can give in unexpected results and will be removed in a future version\n",
            "  writer_new.save()\n",
            "/tmp/ipykernel_2976/798753069.py:103: FutureWarning: save is not part of the public API, usage can give in unexpected results and will be removed in a future version\n",
            "  writer_new.save()\n",
            "/usr/local/lib/python3.8/site-packages/openpyxl/workbook/child.py:99: UserWarning: Title is more than 31 characters. Some applications may not be able to read the file\n",
            "  warnings.warn(\"Title is more than 31 characters. Some applications may not be able to read the file\")\n",
            "/tmp/ipykernel_2976/798753069.py:119: FutureWarning: save is not part of the public API, usage can give in unexpected results and will be removed in a future version\n",
            "  writer_ovr.save()\n"
          ]
        }
      ]
    },
    {
      "cell_type": "markdown",
      "source": [],
      "metadata": {
        "id": "SkHVmfncvYbQ"
      }
    }
  ]
}